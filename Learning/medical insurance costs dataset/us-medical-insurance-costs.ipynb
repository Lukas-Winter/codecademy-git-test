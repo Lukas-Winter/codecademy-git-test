{
 "cells": [
  {
   "cell_type": "markdown",
   "metadata": {},
   "source": [
    "# U.S. Medical Insurance Costs"
   ]
  },
  {
   "cell_type": "code",
   "execution_count": 103,
   "metadata": {},
   "outputs": [],
   "source": [
    "# import data\n",
    "import csv\n",
    "\n",
    "age = []\n",
    "sex = []\n",
    "bmi = []\n",
    "children = []\n",
    "smoker = []\n",
    "region = []\n",
    "charges = []\n",
    "\n",
    "\n",
    "with open('insurance.csv', mode='r') as csv_file:\n",
    "        csv_reader = csv.DictReader(csv_file)\n",
    "                \n",
    "        for row in csv_reader:\n",
    "            age.append(int(row[\"age\"]))\n",
    "            sex.append(row[\"sex\"])\n",
    "            bmi.append(float(row[\"bmi\"]))\n",
    "            children.append(int(row[\"children\"]))\n",
    "            smoker.append(row[\"smoker\"])\n",
    "            region.append(row[\"region\"])\n",
    "            charges.append(float(row[\"charges\"]))"
   ]
  },
  {
   "cell_type": "code",
   "execution_count": 104,
   "metadata": {},
   "outputs": [],
   "source": [
    "def avg_age(age):\n",
    "    avg_age = 0\n",
    "    for x in age:\n",
    "        avg_age += x\n",
    "        \n",
    "    avg_age = round((avg_age / len(age)),2)\n",
    "    \n",
    "    return avg_age"
   ]
  },
  {
   "cell_type": "code",
   "execution_count": 145,
   "metadata": {},
   "outputs": [
    {
     "data": {
      "text/plain": [
       "30.66"
      ]
     },
     "execution_count": 145,
     "metadata": {},
     "output_type": "execute_result"
    }
   ],
   "source": [
    "avg_age(bmi)"
   ]
  },
  {
   "cell_type": "code",
   "execution_count": 134,
   "metadata": {},
   "outputs": [],
   "source": [
    "def age_of_parents(age, children):\n",
    "    avg_p = []\n",
    "    for idx, val in enumerate(children):\n",
    "        #print(idx)\n",
    "        #print(val)\n",
    "        if val > 0:\n",
    "            #print(age[idx])\n",
    "            avg_p.append(age[idx])\n",
    "    return avg_age(avg_p)\n",
    "    "
   ]
  },
  {
   "cell_type": "code",
   "execution_count": 135,
   "metadata": {},
   "outputs": [
    {
     "data": {
      "text/plain": [
       "39.78"
      ]
     },
     "execution_count": 135,
     "metadata": {},
     "output_type": "execute_result"
    }
   ],
   "source": [
    "age_of_parents(age, children)"
   ]
  },
  {
   "cell_type": "code",
   "execution_count": 139,
   "metadata": {},
   "outputs": [],
   "source": [
    "def smoker_bmi(smoker, bmi, is_smoker):\n",
    "    smoker_bmi = []\n",
    "    for idx, val in enumerate(smoker):\n",
    "        if val == is_smoker:\n",
    "            smoker_bmi.append(bmi[idx])\n",
    "    \n",
    "    return is_smoker, avg_age(smoker_bmi)\n",
    "    \n",
    "    \n",
    "    "
   ]
  },
  {
   "cell_type": "code",
   "execution_count": 143,
   "metadata": {},
   "outputs": [
    {
     "data": {
      "text/plain": [
       "('yes', 30.71)"
      ]
     },
     "execution_count": 143,
     "metadata": {},
     "output_type": "execute_result"
    }
   ],
   "source": [
    "smoker_bmi(smoker, bmi, 'yes')"
   ]
  },
  {
   "cell_type": "code",
   "execution_count": 155,
   "metadata": {},
   "outputs": [],
   "source": [
    "def bmi_region(bmi, region):\n",
    "    dist_regions = []\n",
    "    for x in region:\n",
    "        if x not in dist_regions:\n",
    "            dist_regions.append(x)\n",
    "           \n",
    "    sw_bmi = []\n",
    "    se_bmi = []\n",
    "    nw_bmi = []\n",
    "    ne_bmi = []\n",
    "    for idx, val in enumerate(bmi):\n",
    "        if region[idx] == 'southwest':\n",
    "            sw_bmi.append(val)\n",
    "        if region[idx] == 'southeast':\n",
    "            se_bmi.append(val)\n",
    "        if region[idx] == 'northwest':\n",
    "            nw_bmi.append(val)\n",
    "        if region[idx] == 'northeast':\n",
    "            ne_bmi.append(val)\n",
    "        \n",
    "    return 'southwest: ', avg_age(sw_bmi), 'southeast: ', avg_age(se_bmi), 'northwest: ', avg_age(nw_bmi), 'northeast: ', avg_age(ne_bmi)\n",
    "    "
   ]
  },
  {
   "cell_type": "code",
   "execution_count": 156,
   "metadata": {},
   "outputs": [
    {
     "data": {
      "text/plain": [
       "('southwest: ',\n",
       " 30.6,\n",
       " 'southeast: ',\n",
       " 33.36,\n",
       " 'northwest: ',\n",
       " 29.2,\n",
       " 'northeast: ',\n",
       " 29.17)"
      ]
     },
     "execution_count": 156,
     "metadata": {},
     "output_type": "execute_result"
    }
   ],
   "source": [
    "bmi_region(bmi, region)"
   ]
  },
  {
   "cell_type": "code",
   "execution_count": null,
   "metadata": {},
   "outputs": [],
   "source": []
  }
 ],
 "metadata": {
  "kernelspec": {
   "display_name": "Python 3",
   "language": "python",
   "name": "python3"
  },
  "language_info": {
   "codemirror_mode": {
    "name": "ipython",
    "version": 3
   },
   "file_extension": ".py",
   "mimetype": "text/x-python",
   "name": "python",
   "nbconvert_exporter": "python",
   "pygments_lexer": "ipython3",
   "version": "3.8.5"
  }
 },
 "nbformat": 4,
 "nbformat_minor": 4
}
