{
 "cells": [
  {
   "cell_type": "code",
   "execution_count": 324,
   "metadata": {},
   "outputs": [],
   "source": [
    "# names of hurricanes\n",
    "names = ['Cuba I', 'San Felipe II Okeechobee', 'Bahamas', 'Cuba II', 'CubaBrownsville', 'Tampico', 'Labor Day', 'New England', 'Carol', 'Janet', 'Carla', 'Hattie', 'Beulah', 'Camille', 'Edith', 'Anita', 'David', 'Allen', 'Gilbert', 'Hugo', 'Andrew', 'Mitch', 'Isabel', 'Ivan', 'Emily', 'Katrina', 'Rita', 'Wilma', 'Dean', 'Felix', 'Matthew', 'Irma', 'Maria', 'Michael']\n",
    "\n",
    "# months of hurricanes\n",
    "months = ['October', 'September', 'September', 'November', 'August', 'September', 'September', 'September', 'September', 'September', 'September', 'October', 'September', 'August', 'September', 'September', 'August', 'August', 'September', 'September', 'August', 'October', 'September', 'September', 'July', 'August', 'September', 'October', 'August', 'September', 'October', 'September', 'September', 'October']\n",
    "\n",
    "# years of hurricanes\n",
    "years = [1924, 1928, 1932, 1932, 1933, 1933, 1935, 1938, 1953, 1955, 1961, 1961, 1967, 1969, 1971, 1977, 1979, 1980, 1988, 1989, 1992, 1998, 2003, 2004, 2005, 2005, 2005, 2005, 2007, 2007, 2016, 2017, 2017, 2018]\n",
    "\n",
    "# maximum sustained winds (mph) of hurricanes\n",
    "max_sustained_winds = [165, 160, 160, 175, 160, 160, 185, 160, 160, 175, 175, 160, 160, 175, 160, 175, 175, 190, 185, 160, 175, 180, 165, 165, 160, 175, 180, 185, 175, 175, 165, 180, 175, 160]\n",
    "\n",
    "# areas affected by each hurricane\n",
    "areas_affected = [['Central America', 'Mexico', 'Cuba', 'Florida', 'The Bahamas'], ['Lesser Antilles', 'The Bahamas', 'United States East Coast', 'Atlantic Canada'], ['The Bahamas', 'Northeastern United States'], ['Lesser Antilles', 'Jamaica', 'Cayman Islands', 'Cuba', 'The Bahamas', 'Bermuda'], ['The Bahamas', 'Cuba', 'Florida', 'Texas', 'Tamaulipas'], ['Jamaica', 'Yucatn Peninsula'], ['The Bahamas', 'Florida', 'Georgia', 'The Carolinas', 'Virginia'], ['Southeastern United States', 'Northeastern United States', 'Southwestern Quebec'], ['Bermuda', 'New England', 'Atlantic Canada'], ['Lesser Antilles', 'Central America'], ['Texas', 'Louisiana', 'Midwestern United States'], ['Central America'], ['The Caribbean', 'Mexico', 'Texas'], ['Cuba', 'United States Gulf Coast'], ['The Caribbean', 'Central America', 'Mexico', 'United States Gulf Coast'], ['Mexico'], ['The Caribbean', 'United States East coast'], ['The Caribbean', 'Yucatn Peninsula', 'Mexico', 'South Texas'], ['Jamaica', 'Venezuela', 'Central America', 'Hispaniola', 'Mexico'], ['The Caribbean', 'United States East Coast'], ['The Bahamas', 'Florida', 'United States Gulf Coast'], ['Central America', 'Yucatn Peninsula', 'South Florida'], ['Greater Antilles', 'Bahamas', 'Eastern United States', 'Ontario'], ['The Caribbean', 'Venezuela', 'United States Gulf Coast'], ['Windward Islands', 'Jamaica', 'Mexico', 'Texas'], ['Bahamas', 'United States Gulf Coast'], ['Cuba', 'United States Gulf Coast'], ['Greater Antilles', 'Central America', 'Florida'], ['The Caribbean', 'Central America'], ['Nicaragua', 'Honduras'], ['Antilles', 'Venezuela', 'Colombia', 'United States East Coast', 'Atlantic Canada'], ['Cape Verde', 'The Caribbean', 'British Virgin Islands', 'U.S. Virgin Islands', 'Cuba', 'Florida'], ['Lesser Antilles', 'Virgin Islands', 'Puerto Rico', 'Dominican Republic', 'Turks and Caicos Islands'], ['Central America', 'United States Gulf Coast (especially Florida Panhandle)']]\n",
    "\n",
    "# damages (USD($)) of hurricanes\n",
    "damages = ['Damages not recorded', '100M', 'Damages not recorded', '40M', '27.9M', '5M', 'Damages not recorded', '306M', '2M', '65.8M', '326M', '60.3M', '208M', '1.42B', '25.4M', 'Damages not recorded', '1.54B', '1.24B', '7.1B', '10B', '26.5B', '6.2B', '5.37B', '23.3B', '1.01B', '125B', '12B', '29.4B', '1.76B', '720M', '15.1B', '64.8B', '91.6B', '25.1B']\n",
    "\n",
    "# deaths for each hurricane\n",
    "deaths = [90,4000,16,3103,179,184,408,682,5,1023,43,319,688,259,37,11,2068,269,318,107,65,19325,51,124,17,1836,125,87,45,133,603,138,3057,74]"
   ]
  },
  {
   "cell_type": "markdown",
   "metadata": {},
   "source": [
    "# write your update damages function here:"
   ]
  },
  {
   "cell_type": "code",
   "execution_count": 325,
   "metadata": {},
   "outputs": [],
   "source": [
    "def update_damages(damage):\n",
    "    for x in damages:\n",
    "        if x[-1] == \"M\":\n",
    "            damages[damages.index(x)] = float(x[:-1]) * 1000000\n",
    "        elif x[-1] == \"B\":\n",
    "            damages[damages.index(x)] = float(x[:-1]) * 1000000000\n",
    "        else:\n",
    "            damages[damages.index(x)] = \"Damages not recorded\"\n",
    "    return damages"
   ]
  },
  {
   "cell_type": "code",
   "execution_count": 326,
   "metadata": {},
   "outputs": [
    {
     "data": {
      "text/plain": [
       "['Damages not recorded',\n",
       " 100000000.0,\n",
       " 'Damages not recorded',\n",
       " 40000000.0,\n",
       " 27900000.0,\n",
       " 5000000.0,\n",
       " 'Damages not recorded',\n",
       " 306000000.0,\n",
       " 2000000.0,\n",
       " 65800000.0,\n",
       " 326000000.0,\n",
       " 60300000.0,\n",
       " 208000000.0,\n",
       " 1420000000.0,\n",
       " 25400000.0,\n",
       " 'Damages not recorded',\n",
       " 1540000000.0,\n",
       " 1240000000.0,\n",
       " 7100000000.0,\n",
       " 10000000000.0,\n",
       " 26500000000.0,\n",
       " 6200000000.0,\n",
       " 5370000000.0,\n",
       " 23300000000.0,\n",
       " 1010000000.0,\n",
       " 125000000000.0,\n",
       " 12000000000.0,\n",
       " 29400000000.0,\n",
       " 1760000000.0,\n",
       " 720000000.0,\n",
       " 15100000000.0,\n",
       " 64800000000.0,\n",
       " 91600000000.0,\n",
       " 25100000000.0]"
      ]
     },
     "execution_count": 326,
     "metadata": {},
     "output_type": "execute_result"
    }
   ],
   "source": [
    "update_damages(damages)"
   ]
  },
  {
   "cell_type": "markdown",
   "metadata": {},
   "source": [
    "# write your construct hurricane dictionary function here:"
   ]
  },
  {
   "cell_type": "code",
   "execution_count": 327,
   "metadata": {},
   "outputs": [],
   "source": [
    "def build_dict(name, month, year, speed, areas, damages, deaths):\n",
    "    temp_keys = [\"Name\", \"Month\", \"Year\", \"Max Sustained Winds\", \"Areas Affected\", \"Damages\", \"Deaths\"]\n",
    "    temp_values = list(zip(names, months, years, max_sustained_winds, areas_affected, damages, deaths))\n",
    "    \n",
    "    temp_list =[]\n",
    "    \n",
    "    for x in range(0, len(temp_values)):\n",
    "        temp_list.append({key:value for key, value in zip(temp_keys, temp_values[x])})\n",
    "\n",
    "    hurricane_dict = {key:value for key,value in zip(name, temp_list)}\n",
    "    \n",
    "    return hurricane_dict"
   ]
  },
  {
   "cell_type": "code",
   "execution_count": 328,
   "metadata": {},
   "outputs": [],
   "source": [
    "dict_names = build_dict(names, months, years, max_sustained_winds, areas_affected, damages, deaths)"
   ]
  },
  {
   "cell_type": "code",
   "execution_count": 329,
   "metadata": {},
   "outputs": [
    {
     "name": "stdout",
     "output_type": "stream",
     "text": [
      "{'Name': 'Cuba I', 'Month': 'October', 'Year': 1924, 'Max Sustained Winds': 165, 'Areas Affected': ['Central America', 'Mexico', 'Cuba', 'Florida', 'The Bahamas'], 'Damages': 'Damages not recorded', 'Deaths': 90}\n"
     ]
    }
   ],
   "source": [
    "print(dict_names[\"Cuba I\"])"
   ]
  },
  {
   "cell_type": "markdown",
   "metadata": {},
   "source": [
    "# write your construct hurricane by year dictionary function here:"
   ]
  },
  {
   "cell_type": "code",
   "execution_count": 330,
   "metadata": {},
   "outputs": [],
   "source": [
    "def dict_by_year(dict_names):\n",
    "    \n",
    "    new_dict = {}\n",
    "    \n",
    "    for x in dict_names:\n",
    "        if dict_names[x][\"Year\"] in new_dict:\n",
    "            #temp_list = [new_dict[dict_names[x][\"Year\"]], dict_names[x]]\n",
    "            #temp_dict = {dict_names[x][\"Year\"]: [new_dict[dict_names[x][\"Year\"]], dict_names[x]]}\n",
    "            #new_dict.update(temp_dict)\n",
    "            new_dict.update({dict_names[x][\"Year\"]: [new_dict[dict_names[x][\"Year\"]], dict_names[x]]})\n",
    "        else:\n",
    "            #temp_dict = {dict_names[x][\"Year\"]: dict_names[x]}\n",
    "            #new_dict.update(temp_dict)\n",
    "            new_dict.update({dict_names[x][\"Year\"]: dict_names[x]})\n",
    "    return new_dict"
   ]
  },
  {
   "cell_type": "code",
   "execution_count": 331,
   "metadata": {},
   "outputs": [],
   "source": [
    "by_years = dict_by_year(dict_names)"
   ]
  },
  {
   "cell_type": "code",
   "execution_count": 332,
   "metadata": {},
   "outputs": [
    {
     "data": {
      "text/plain": [
       "[{'Name': 'Bahamas',\n",
       "  'Month': 'September',\n",
       "  'Year': 1932,\n",
       "  'Max Sustained Winds': 160,\n",
       "  'Areas Affected': ['The Bahamas', 'Northeastern United States'],\n",
       "  'Damages': 'Damages not recorded',\n",
       "  'Deaths': 16},\n",
       " {'Name': 'Cuba II',\n",
       "  'Month': 'November',\n",
       "  'Year': 1932,\n",
       "  'Max Sustained Winds': 175,\n",
       "  'Areas Affected': ['Lesser Antilles',\n",
       "   'Jamaica',\n",
       "   'Cayman Islands',\n",
       "   'Cuba',\n",
       "   'The Bahamas',\n",
       "   'Bermuda'],\n",
       "  'Damages': 40000000.0,\n",
       "  'Deaths': 3103}]"
      ]
     },
     "execution_count": 332,
     "metadata": {},
     "output_type": "execute_result"
    }
   ],
   "source": [
    "by_years[1932]"
   ]
  },
  {
   "cell_type": "markdown",
   "metadata": {},
   "source": [
    "# write your count affected areas function here:"
   ]
  },
  {
   "cell_type": "code",
   "execution_count": 333,
   "metadata": {},
   "outputs": [],
   "source": [
    "def area_affected_count(dict_names):\n",
    "    new_dict = {}\n",
    "    for x in dict_names:\n",
    "        for y in dict_names[x][\"Areas Affected\"]:\n",
    "            if y in new_dict:\n",
    "                new_dict.update({y: new_dict[y]+1})\n",
    "            else:\n",
    "                new_dict.update({y: 1})\n",
    "    return new_dict"
   ]
  },
  {
   "cell_type": "code",
   "execution_count": 334,
   "metadata": {},
   "outputs": [],
   "source": [
    "areas_dict = area_affected_count(dict_names)"
   ]
  },
  {
   "cell_type": "code",
   "execution_count": 335,
   "metadata": {},
   "outputs": [
    {
     "name": "stdout",
     "output_type": "stream",
     "text": [
      "{'Central America': 9, 'Mexico': 7, 'Cuba': 6, 'Florida': 6, 'The Bahamas': 7, 'Lesser Antilles': 4, 'United States East Coast': 3, 'Atlantic Canada': 3, 'Northeastern United States': 2, 'Jamaica': 4, 'Cayman Islands': 1, 'Bermuda': 2, 'Texas': 4, 'Tamaulipas': 1, 'Yucatn Peninsula': 3, 'Georgia': 1, 'The Carolinas': 1, 'Virginia': 1, 'Southeastern United States': 1, 'Southwestern Quebec': 1, 'New England': 1, 'Louisiana': 1, 'Midwestern United States': 1, 'The Caribbean': 8, 'United States Gulf Coast': 6, 'United States East coast': 1, 'South Texas': 1, 'Venezuela': 3, 'Hispaniola': 1, 'South Florida': 1, 'Greater Antilles': 2, 'Bahamas': 2, 'Eastern United States': 1, 'Ontario': 1, 'Windward Islands': 1, 'Nicaragua': 1, 'Honduras': 1, 'Antilles': 1, 'Colombia': 1, 'Cape Verde': 1, 'British Virgin Islands': 1, 'U.S. Virgin Islands': 1, 'Virgin Islands': 1, 'Puerto Rico': 1, 'Dominican Republic': 1, 'Turks and Caicos Islands': 1, 'United States Gulf Coast (especially Florida Panhandle)': 1}\n"
     ]
    }
   ],
   "source": [
    "print(areas_dict)"
   ]
  },
  {
   "cell_type": "markdown",
   "metadata": {},
   "source": [
    "# write your find most affected area function here:"
   ]
  },
  {
   "cell_type": "code",
   "execution_count": 336,
   "metadata": {},
   "outputs": [],
   "source": [
    "def most_dangerous_areas(areas_dict):\n",
    "    print(\"The most dangerous areas is\", max(areas_dict, key=areas_dict.get), \n",
    "          \"which was hit\", areas_dict[max(areas_dict, key=areas_dict.get)],\"times.\")\n",
    "    #return max(areas_dict, key=areas_dict.get)"
   ]
  },
  {
   "cell_type": "code",
   "execution_count": 337,
   "metadata": {},
   "outputs": [
    {
     "name": "stdout",
     "output_type": "stream",
     "text": [
      "The most dangerous areas is Central America which was hit 9 times.\n"
     ]
    }
   ],
   "source": [
    "most_dangerous_areas(areas_dict)"
   ]
  },
  {
   "cell_type": "markdown",
   "metadata": {},
   "source": [
    "# write your greatest number of deaths function here:"
   ]
  },
  {
   "cell_type": "code",
   "execution_count": 338,
   "metadata": {},
   "outputs": [],
   "source": [
    "def deadliest_hurricanes(dict_names):\n",
    "    \n",
    "    hurr_name = \"\"\n",
    "    hurr_deaths = 0\n",
    "    \n",
    "    for x in dict_names:\n",
    "        if dict_names[x][\"Deaths\"] > hurr_deaths:\n",
    "            hurr_name = x\n",
    "            hurr_deaths = dict_names[x][\"Deaths\"]\n",
    "    \n",
    "    print(\"The deadliest hurricane was\", hurr_name, \"and caused\", hurr_deaths, \"deaths.\")        \n",
    "    "
   ]
  },
  {
   "cell_type": "code",
   "execution_count": 339,
   "metadata": {},
   "outputs": [
    {
     "name": "stdout",
     "output_type": "stream",
     "text": [
      "The deadliest hurricane was Mitch and caused 19325 deaths.\n"
     ]
    }
   ],
   "source": [
    "deadliest_hurricanes(dict_names)"
   ]
  },
  {
   "cell_type": "markdown",
   "metadata": {},
   "source": [
    "# write your catgeorize by mortality function here:"
   ]
  },
  {
   "cell_type": "code",
   "execution_count": 340,
   "metadata": {},
   "outputs": [],
   "source": [
    "def hurricane_rating(dict_names):\n",
    "    mortality_scale = {0: 0, 1: 100, 2: 500, 3: 1000, 4: 10000}\n",
    "    new_dict = {0:[], 1: [], 2: [], 3: [], 4: [], 5: []}\n",
    "    \n",
    "    for x in dict_names:\n",
    "        if dict_names[x][\"Deaths\"] == 0:\n",
    "            new_dict[0].append(x)\n",
    "        elif dict_names[x][\"Deaths\"] > 0 and dict_names[x][\"Deaths\"] <= 100:\n",
    "            new_dict[1].append(x)\n",
    "        elif dict_names[x][\"Deaths\"] > 100 and dict_names[x][\"Deaths\"] <= 500:\n",
    "            new_dict[2].append(x)\n",
    "        elif dict_names[x][\"Deaths\"] > 500 and dict_names[x][\"Deaths\"] <= 1000:\n",
    "            new_dict[3].append(x)\n",
    "        elif dict_names[x][\"Deaths\"] > 1000 and dict_names[x][\"Deaths\"] <= 10000:\n",
    "            new_dict[4].append(x)\n",
    "        else:\n",
    "            new_dict[5].append(x)\n",
    "            \n",
    "    return new_dict\n",
    "    \n",
    "    "
   ]
  },
  {
   "cell_type": "code",
   "execution_count": 341,
   "metadata": {},
   "outputs": [
    {
     "data": {
      "text/plain": [
       "{0: [],\n",
       " 1: ['Cuba I',\n",
       "  'Bahamas',\n",
       "  'Carol',\n",
       "  'Carla',\n",
       "  'Edith',\n",
       "  'Anita',\n",
       "  'Andrew',\n",
       "  'Isabel',\n",
       "  'Emily',\n",
       "  'Wilma',\n",
       "  'Dean',\n",
       "  'Michael'],\n",
       " 2: ['CubaBrownsville',\n",
       "  'Tampico',\n",
       "  'Labor Day',\n",
       "  'Hattie',\n",
       "  'Camille',\n",
       "  'Allen',\n",
       "  'Gilbert',\n",
       "  'Hugo',\n",
       "  'Ivan',\n",
       "  'Rita',\n",
       "  'Felix',\n",
       "  'Irma'],\n",
       " 3: ['New England', 'Beulah', 'Matthew'],\n",
       " 4: ['San Felipe II Okeechobee',\n",
       "  'Cuba II',\n",
       "  'Janet',\n",
       "  'David',\n",
       "  'Katrina',\n",
       "  'Maria'],\n",
       " 5: ['Mitch']}"
      ]
     },
     "execution_count": 341,
     "metadata": {},
     "output_type": "execute_result"
    }
   ],
   "source": [
    "hurricane_rating(dict_names)"
   ]
  },
  {
   "cell_type": "markdown",
   "metadata": {},
   "source": [
    "# write your greatest damage function here:"
   ]
  },
  {
   "cell_type": "code",
   "execution_count": 342,
   "metadata": {},
   "outputs": [],
   "source": [
    "def biggest_damage(dict_names):\n",
    "    hurr_name = \"\"\n",
    "    hurr_damage = 0\n",
    "    \n",
    "    for x in dict_names:\n",
    "        try:\n",
    "            if dict_names[x][\"Damages\"] > hurr_damage:\n",
    "                hurr_name = x\n",
    "                hurr_damage = dict_names[x][\"Damages\"]\n",
    "        except:\n",
    "            continue\n",
    "            \n",
    "    print(\"The hurricane who caused the most damage was\", hurr_name, \"and caused\", hurr_damage, \"of costs.\")    \n",
    "    "
   ]
  },
  {
   "cell_type": "code",
   "execution_count": 343,
   "metadata": {},
   "outputs": [
    {
     "name": "stdout",
     "output_type": "stream",
     "text": [
      "The hurricane who caused the most damage was Katrina and caused 125000000000.0 of costs.\n"
     ]
    }
   ],
   "source": [
    "biggest_damage(dict_names)"
   ]
  },
  {
   "cell_type": "markdown",
   "metadata": {},
   "source": [
    "# write your catgeorize by damage function here:"
   ]
  },
  {
   "cell_type": "code",
   "execution_count": 344,
   "metadata": {},
   "outputs": [],
   "source": [
    "def damage_rating(dict_names):\n",
    "    damage_scale = {0: 0, 1: 100000000, 2: 1000000000, 3: 10000000000, 4: 50000000000}\n",
    "    new_dict = {0:[], 1: [], 2: [], 3: [], 4: [], 5: []}\n",
    "    \n",
    "    for x in dict_names:\n",
    "        try:\n",
    "            if dict_names[x][\"Damages\"] == 0:\n",
    "                new_dict[0].append(x)\n",
    "            elif dict_names[x][\"Damages\"] > 0 and dict_names[x][\"Damages\"] <= 100000000:\n",
    "                new_dict[1].append(x)\n",
    "            elif dict_names[x][\"Damages\"] > 100000000 and dict_names[x][\"Damages\"] <= 1000000000:\n",
    "                new_dict[2].append(x)\n",
    "            elif dict_names[x][\"Damages\"] > 1000000000 and dict_names[x][\"Damages\"] <= 10000000000:\n",
    "                new_dict[3].append(x)\n",
    "            elif dict_names[x][\"Damages\"] > 10000000000 and dict_names[x][\"Damages\"] <= 50000000000:\n",
    "                new_dict[4].append(x)\n",
    "            else:\n",
    "                new_dict[5].append(x)\n",
    "        except:\n",
    "            continue\n",
    "            \n",
    "    return new_dict"
   ]
  },
  {
   "cell_type": "code",
   "execution_count": 345,
   "metadata": {},
   "outputs": [
    {
     "data": {
      "text/plain": [
       "{0: [],\n",
       " 1: ['San Felipe II Okeechobee',\n",
       "  'Cuba II',\n",
       "  'CubaBrownsville',\n",
       "  'Tampico',\n",
       "  'Carol',\n",
       "  'Janet',\n",
       "  'Hattie',\n",
       "  'Edith'],\n",
       " 2: ['New England', 'Carla', 'Beulah', 'Felix'],\n",
       " 3: ['Camille',\n",
       "  'David',\n",
       "  'Allen',\n",
       "  'Gilbert',\n",
       "  'Hugo',\n",
       "  'Mitch',\n",
       "  'Isabel',\n",
       "  'Emily',\n",
       "  'Dean'],\n",
       " 4: ['Andrew', 'Ivan', 'Rita', 'Wilma', 'Matthew', 'Michael'],\n",
       " 5: ['Katrina', 'Irma', 'Maria']}"
      ]
     },
     "execution_count": 345,
     "metadata": {},
     "output_type": "execute_result"
    }
   ],
   "source": [
    "damage_rating(dict_names)"
   ]
  }
 ],
 "metadata": {
  "kernelspec": {
   "display_name": "Python 3",
   "language": "python",
   "name": "python3"
  },
  "language_info": {
   "codemirror_mode": {
    "name": "ipython",
    "version": 3
   },
   "file_extension": ".py",
   "mimetype": "text/x-python",
   "name": "python",
   "nbconvert_exporter": "python",
   "pygments_lexer": "ipython3",
   "version": "3.8.5"
  }
 },
 "nbformat": 4,
 "nbformat_minor": 4
}
