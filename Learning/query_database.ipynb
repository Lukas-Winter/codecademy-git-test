{
 "cells": [
  {
   "cell_type": "code",
   "execution_count": 66,
   "metadata": {},
   "outputs": [],
   "source": [
    "import sqlite3\n",
    "from random import randrange\n",
    "\n",
    "def rnd_table():\n",
    "    query = \"CREATE TABLE Pressure (reading float not null);\"\n",
    "    query2 = \"INSERT INTO Pressure (reading) VALUES (?);\"\n",
    "    \n",
    "    numbers = []\n",
    "    for x in range (1,10):\n",
    "        numbers.append(randrange(10.0, 25.0))\n",
    "    \n",
    "    connection = sqlite3.connect(\"original.db\")\n",
    "    cursor = connection.cursor()\n",
    "    \n",
    "    for y in numbers:\n",
    "        cursor.execute(query2, [y]) \n",
    "        \n",
    "    results = cursor.execute(\"SELECT * FROM Pressure;\")\n",
    "    #for i in results:\n",
    "        #print(i)\n",
    "    cursor.close()\n",
    "    connection.commit()\n",
    "    connection.close()\n",
    "    #print(results)\n"
   ]
  },
  {
   "cell_type": "code",
   "execution_count": 67,
   "metadata": {},
   "outputs": [],
   "source": [
    "rnd_table()"
   ]
  },
  {
   "cell_type": "code",
   "execution_count": null,
   "metadata": {},
   "outputs": [],
   "source": []
  }
 ],
 "metadata": {
  "kernelspec": {
   "display_name": "Python 3",
   "language": "python",
   "name": "python3"
  },
  "language_info": {
   "codemirror_mode": {
    "name": "ipython",
    "version": 3
   },
   "file_extension": ".py",
   "mimetype": "text/x-python",
   "name": "python",
   "nbconvert_exporter": "python",
   "pygments_lexer": "ipython3",
   "version": "3.8.5"
  }
 },
 "nbformat": 4,
 "nbformat_minor": 4
}
